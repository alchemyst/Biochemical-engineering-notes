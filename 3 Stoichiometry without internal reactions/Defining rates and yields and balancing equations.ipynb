{
 "cells": [
  {
   "cell_type": "markdown",
   "metadata": {},
   "source": [
    "# Stoichiometry without internal reactions\n",
    "\n",
    "Hopefully you have gathered from your cell biology crash course in chapters 1-2 that it is all about energy. Microbes need energy to sustain life and to multiply. This principle is exactly the same for a cell suspended in a bioreactor. The cell is unaware that it is working as a ‘catalyst’ in some commercial process, so fortunately there will be no strikes. The cell just require nutrients (food) so that it can live and multiply (grow more of itself). Some of the nutrients are used directly as feedstock for making new amino acids, nucleic acids, lipids and all the other biochemicals that constitute the organism. To perform all these synthesis reactions energy is required and accordingly a significant fraction of the nutrients (mainly the carbon source like glucose) is used exclusively to make energy (or ATP in cellular terms). One can say that a large fraction of the carbon source is used as fuel with only the remainder used to build new cell material. \n",
    "For anaerobic conditions the burning of the ‘fuel’ is incomplete. This implies that $CO_2$ and $H_2O$ are not the sole ‘combustion’ products. Instead the ‘combustion’ products still contain a carbon skeleton with hydrogen and oxygen atoms attached to the skeleton. Have a look at the fermentative pathways in chapter 3 and the principle of substrate level phosphorylation. In glycolysis glucose is broken down to simpler structures in order to generate ATP. Once ATP is generated within the cell the remainder of the carbon structure can be excreted. This excretion product can be very useful from a commercial perspective since numerous anaerobic catabolites can be used as industrial chemicals. Typical examples include organic acids (lactic, succinic, acetic) and alcohols (ethanol, 1,3-propane diol, butanol)\n",
    "\n",
    "For aerobic reactions the cell has an effective method of obtaining the maximum energy out of the carbon containing nutrient. The ‘combustion’ products of $CO_2$ and $H_2O$ will have no commercial use. Given the effective use of the fuel (lots of ATP generated per carbon source consumed) a larger fraction of the carbon source can be used for building new biomass. In some cases the biomass itself will be the product like in the production of baker’s yeast. In other cases the cells excretes a large fraction of the original carbon source in the form of an amino acid, protein of organic acid. The reason for the excretion in these scenarios is typically not linked to energy generation but rather that the excretion product has to perform an extracellular (on the outside) function. In some cases it is mere metabolic overflow of a certain product. Examples include the production of citric acid, lysine, insulin and cellulase.\n",
    "\n",
    "The chemical engineer has a simplified view on all of this. Sugar that is cheap can be converted to useful chemicals and products. Although the biochemistry is extensive to achieve this (numerous enzymatic reaction steps - just look at glycolysis for starters) it can be approximated as a single reaction step all occurring within the cell. Unfortunately unlike normal chemical reactions some unwanted or by-products need to be made, it won’t be possible to canalise all the carbon in the feed to the desired product. We need to use some of that carbon to make more biomass. But biomass is not exactly a by-product, it is more like catalyst! Catalyst is typically an expensive part of a reactor, but with bioreactors we can grow our catalyst from cheap feed materials. Another massive advantage when thinking like a chemical engineer! \n",
    "\n",
    "![Cell factory](Cellfactory.jpg)\n",
    "\n",
    "The picture above might be simplified since a few pre-treating and post processing steps are not indicated, but it gives one idea of what we are doing. In this chapter we’ll be looking at the molecules that enters and exit the cell membrane. Note that **new cells** will also be an exit product. We’ll write the overall reaction down like a chemical reaction and spend some time on determining the stoichiometric coefficients. See the following video for an alternative explanation:\n",
    "\n",
    "[Video: Lecture 3 The stoichiometry of a cell factory](https://www.youtube.com/watch?v=hgy6vwwXZaE)\n",
    "\n"
   ]
  },
  {
   "cell_type": "markdown",
   "metadata": {
    "collapsed": true
   },
   "source": [
    "## Stoichiometry, rates and yields\n",
    "\n",
    "In this subject it is crucial to understand how stoichiometry relates to reaction rates. Let's start by considering a simple chemical reaction:\n",
    "\n",
    "$$ A+2B \\to 4C+3D$$\n",
    "\n",
    "In essense this reaction states that for each mole of A that reacts, 2 moles of B is consumed, while 4 moles of C is formed and 3 moles of D is formed. In the context of this subject it is the easiest to think of reaction in terms of reaction rates where we relate the conversion process to time. In terms of the reaction rate ($r_i$) we can use the stoichiometric coeffisients to relate the respective reaction rates of the 4 components to one another. It should be clear that:\n",
    "\n",
    "$$r_B=2r_A, \\,\\, r_C=-4r_A, \\,\\, r_D=-3r_A  $$\n",
    "\n",
    "**The standard convention** is to define production rate as positive. This implies that $r_A$ and $r_B$ will be negative since molecules are consumed. \n",
    "\n",
    "The reaction above can also be written as follow:\n",
    "\n",
    "$$ \\frac{1}{2}A+B \\to 2C+\\frac{3}{2}D$$\n",
    "\n",
    "Here we have chosen to relate the stoichiometry to one mole of B that reacts (instead of one mole of A that reacts in the fisrt expression). It should be clear to you that the following relationships applies for both ways of expressing the reaction:\n",
    "\n",
    "$$  \\frac{-r_B}{-r_A}=2  \\;\\; \\frac{r_C}{-r_A}=4 \\;\\; \\frac{r_D}{-r_A}=3  $$\n",
    "\n",
    "It is preferable to put minus sings in front of reagent reaction rates in order to work with positive quatities. The relationships above show that stoichiometry is merely the ratio of rates. We can write out the reaction like this:\n",
    "\n",
    "$$ A+\\left(\\frac{-r_B}{-r_A}\\right)B \\to \\left(\\frac{r_C}{-r_A}\\right)C+\\left(\\frac{r_D}{-r_A}\\right)D$$\n",
    "\n",
    "In the above expression component A was chosen as the basis (by assigning a coeffisient of 1). We can for example opt to have component C as the basis:\n",
    "\n",
    "$$ \\left(\\frac{-r_A}{r_C}\\right)A+\\left(\\frac{-r_B}{r_C}\\right)B \\to C+\\left(\\frac{r_D}{r_C}\\right)D$$\n",
    "\n",
    "The values of the stoichiometric coeffisients might change, but the ratio between the coeffisients don't. To simplify all the ratios we can merely write:\n",
    "\n",
    "$$ (-r_A) A+(-r_B) B \\to (r_C) C+(r_D)D$$\n",
    "\n",
    "It might appear that we now need 4 stoichiometric coeffisients to define the reaction. We only need 3 since stoichiometry only defines the ratios in which the components react. For 4 components there is just 3 independant ratios. If the absolute value of one reaction rate is known, the 3 independant stoichiometric coeffisients will allow the calculation of all the rate values.\n",
    "\n",
    "In bioprocess nomenclature, stoichiometric coeffisients are referred to as **yield coeffisients ($Y$)**. If component A is chosen as the basis, the above reaction will be represented as:\n",
    "\n",
    "$$  A+Y_{AB} B \\to Y_{AC} C+Y_{AD}D$$\n",
    "\n",
    "We can also for example use C as the basis:\n",
    "\n",
    "$$  Y_{CA}A+Y_{CB} B \\to  C+Y_{CD}D$$\n",
    "\n",
    "Note the simple relatioship:\n",
    "\n",
    "$$Y_{AC}=\\frac{r_C}{-r_A}$$\n",
    "\n",
    "The convention explained above exclusively works with **positive values of rates and yields**. The underlying assumption is that it is known whether a component is a reagent or a product. Negative yield or rate values will imply that a component was incorrectly identified as reagent/product. "
   ]
  },
  {
   "cell_type": "markdown",
   "metadata": {},
   "source": [
    "###  Balancing equations\n",
    "\n",
    "Take the reaction where glucose ($C_6 H_{12}O_6$)  is converted to succinic acid ($C_4 H_{6}O_4$). The overall chemical reaction will entail the consumption of carbon dioxide and the production of water. The chemical reaction is given by the following:\n",
    "\n",
    "$$C_6 H_{12} O_6+Y_{SC}CO_2→Y_{SSA}C_4 H_6 O_4+Y_{SW}H_2 O$$\n",
    "\n",
    "Note the subscripts **S,C,SA,W** for glucose, $CO_2$, succinic acid and water.\n",
    "\n",
    "In CBI310 the determination of rates will be more important than the determination of yields. We are thus going to represent the reaction as follows:\n",
    "\n",
    "$$C_6 H_{12} O_6+\\left( \\frac{-r_C}{-r_S} \\right)CO_2→\\left( \\frac{r_{SA}}{-r_S} \\right)C_4 H_6 O_4+\\left( \\frac{r_W}{-r_S} \\right)H_2 O$$\n",
    "\n",
    "Multiply with $-r_S$:\n",
    "\n",
    "$$(-r_S)C_6 H_{12} O_6+\\left( -r_C \\right)CO_2→(r_{SA})C_4 H_6 O_4+(r_W)H_2 O$$\n",
    "\n",
    "Let us do the carbon balance:\n",
    "\n",
    "$$ 6(-r_S)+(-r_C)=4(r_{SA})$$\n",
    "\n",
    "Make sure you understand the balance. To explain the first term, for each mole of glucose that reacts $(-r_S)$, six moles of carbon will be consumed (left side of the equation is consumption).\n",
    "\n",
    "Rewrite the balance so that we have an expression set equal to zero:\n",
    "\n",
    "$$6(-r_S)+(-r_C)-4(r_{SA})=0 \\qquad [A]$$     \n",
    "\n",
    "Similar the hydrogen and oxygen balances can be given as:\n",
    "\n",
    "$$12(-r_S)-6(r_{SA})-2(r_W)=0 \\qquad [B]$$ \n",
    "\n",
    "$$6(-r_S)+2(-r_C)-4(r_{SA})-r_W=0 \\qquad [C]$$\n",
    "\n",
    "For now we will **define the glucose consumption rate ($-r_S$) as 1**, but note that it can be any value:\n",
    "\n",
    "$$(-r_S)=1\\qquad [D]$$\n",
    "\n",
    "Equations A-D above can be written in matrix format:\n",
    "\n",
    "$$\\begin{bmatrix}6 & 1 &-4&0 \\\\12&0&-6&-2\\\\6&2&-4&-1\\\\1&0&0&0\\end{bmatrix}\\times\\begin{bmatrix}-r_{S}\\\\-r_C\\\\r_{SA}\\\\r_W\\end{bmatrix}=\\begin{bmatrix}0\\\\0\\\\0\\\\1\\end{bmatrix}$$\n",
    "\n"
   ]
  },
  {
   "cell_type": "markdown",
   "metadata": {
    "collapsed": true
   },
   "source": [
    "The generic notation used for the formulation above is as follow:\n",
    "\n",
    "$$\\mathbf{S\\times r=C}$$\n",
    "\n",
    "The solution of $r$ can be obtained by the following:\n",
    "\n",
    "$$\\mathbf{r=S^{-1} \\times C}$$\n",
    "\n",
    "We can start by quickly solving these equations in Excel.The following video gives a step by step instruction:\n",
    "\n",
    "[Video: Solving linear equations in Excel](https://www.youtube.com/watch?v=vLsouen-G8M)\n",
    "\n",
    "Note that the **SHIFT-CONTROL-ENTER** keystroke applies the formula to the selected cells.\n",
    "\n",
    "There are also numerous apps that can perform the calculation. I found that **Matrix** works well for formulations up to 10 equations.\n",
    "\n",
    "As the course progress we will be solving linear equations within larger mathematical formulations (remember tutorial 0). For these formulations we will be using **Jupyter notebooks**. Since these notes are written in **Jupyter notebooks** we can quickly solve the equations above: "
   ]
  },
  {
   "cell_type": "code",
   "execution_count": 1,
   "metadata": {},
   "outputs": [
    {
     "name": "stdout",
     "output_type": "stream",
     "text": [
      "[[1.        ]\n",
      " [0.85714286]\n",
      " [1.71428571]\n",
      " [0.85714286]]\n"
     ]
    }
   ],
   "source": [
    "import numpy\n",
    "S = numpy.matrix([[6,1,-4,0],  \n",
    "                  [ 12,0,-6,-2], \n",
    "                  [6,  2, -4,-1],\n",
    "                  [1,0,0,0]])        # note how the matrix is defined\n",
    "\n",
    "C = numpy.matrix([[0,0,0,1]]).T      # The C-matrix is transposed (T) to perform the calculation\n",
    "\n",
    "r = numpy.linalg.solve(S,C)\n",
    "print(r)"
   ]
  },
  {
   "cell_type": "markdown",
   "metadata": {},
   "source": [
    "See if you get the same answer from **Excel** or from the app that you prefer. Also make sure that you have a linear equation solver tool avaialble in class!\n",
    "\n",
    "[Back to Contents page](../List%20of%20contents.ipynb)"
   ]
  },
  {
   "cell_type": "code",
   "execution_count": null,
   "metadata": {
    "collapsed": true
   },
   "outputs": [],
   "source": []
  }
 ],
 "metadata": {
  "kernelspec": {
   "display_name": "Python 3",
   "language": "python",
   "name": "python3"
  },
  "language_info": {
   "codemirror_mode": {
    "name": "ipython",
    "version": 3
   },
   "file_extension": ".py",
   "mimetype": "text/x-python",
   "name": "python",
   "nbconvert_exporter": "python",
   "pygments_lexer": "ipython3",
   "version": "3.6.5"
  }
 },
 "nbformat": 4,
 "nbformat_minor": 1
}
